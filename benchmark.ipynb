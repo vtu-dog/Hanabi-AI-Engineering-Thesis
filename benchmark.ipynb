{
 "cells": [
  {
   "cell_type": "code",
   "execution_count": 1,
   "metadata": {},
   "outputs": [],
   "source": [
    "# basic imports\n",
    "from players import *\n",
    "from framework import *\n",
    "from statistics import mean, median_high, variance, stdev"
   ]
  },
  {
   "cell_type": "code",
   "execution_count": 2,
   "metadata": {},
   "outputs": [],
   "source": [
    "def n_players(player, num):\n",
    "    return [player() for _ in range(num)]\n",
    "\n",
    "def benchmark(player):\n",
    "    for num in [2, 3, 4, 5]:\n",
    "        scores = []\n",
    "\n",
    "        for _ in range(1000):\n",
    "            players = n_players(player, num)\n",
    "            hanabi_game = Game(players)\n",
    "            while hanabi_game.is_game_over() is False:\n",
    "                hanabi_game.make_move()\n",
    "            scores.append(hanabi_game.score)\n",
    "\n",
    "        print('Mean for {0} players: {1}'.format(num, mean(scores)))\n",
    "        print('Median for {0} players: {1}'.format(num, median_high(scores)))\n",
    "        print('Variance for {0} players: {1}'.format(num, variance(scores)))\n",
    "        print('Standard deviation for {0} players: {1}'.format(num, stdev(scores)))\n",
    "        print()"
   ]
  },
  {
   "cell_type": "code",
   "execution_count": 3,
   "metadata": {},
   "outputs": [
    {
     "name": "stdout",
     "output_type": "stream",
     "text": [
      "Mean for 2 players: 20.609\n",
      "Median for 2 players: 21\n",
      "Variance for 2 players: 6.4946136136136134\n",
      "Standard deviation for 2 players: 2.548453180581039\n",
      "\n",
      "Mean for 3 players: 22.334\n",
      "Median for 3 players: 23\n",
      "Variance for 3 players: 4.014458458458458\n",
      "Standard deviation for 3 players: 2.0036113541449243\n",
      "\n",
      "Mean for 4 players: 21.756\n",
      "Median for 4 players: 22\n",
      "Variance for 4 players: 4.452916916916917\n",
      "Standard deviation for 4 players: 2.110193573328503\n",
      "\n",
      "Mean for 5 players: 22.03\n",
      "Median for 5 players: 22\n",
      "Variance for 5 players: 3.5066066066066064\n",
      "Standard deviation for 5 players: 1.8725935508290652\n",
      "\n"
     ]
    }
   ],
   "source": [
    "benchmark(Cheater)"
   ]
  },
  {
   "cell_type": "code",
   "execution_count": 5,
   "metadata": {},
   "outputs": [
    {
     "name": "stdout",
     "output_type": "stream",
     "text": [
      "Mean for 2 players: 24.722\n",
      "Median for 2 players: 25\n",
      "Variance for 2 players: 0.6473633633633633\n",
      "Standard deviation for 2 players: 0.80458894061711\n",
      "\n",
      "Mean for 3 players: 24.926\n",
      "Median for 3 players: 25\n",
      "Variance for 3 players: 0.11063463463463463\n",
      "Standard deviation for 3 players: 0.3326178507456186\n",
      "\n",
      "Mean for 4 players: 24.872\n",
      "Median for 4 players: 25\n",
      "Variance for 4 players: 0.1938098098098098\n",
      "Standard deviation for 4 players: 0.44023835567770536\n",
      "\n",
      "Mean for 5 players: 24.859\n",
      "Median for 5 players: 25\n",
      "Variance for 5 players: 0.1893083083083083\n",
      "Standard deviation for 5 players: 0.4350957461390634\n",
      "\n"
     ]
    }
   ],
   "source": [
    "benchmark(SmartCheater)"
   ]
  },
  {
   "cell_type": "code",
   "execution_count": 6,
   "metadata": {},
   "outputs": [
    {
     "name": "stdout",
     "output_type": "stream",
     "text": [
      "Mean for 2 players: 5.947\n",
      "Median for 2 players: 6\n",
      "Variance for 2 players: 7.077268268268268\n",
      "Standard deviation for 2 players: 2.660313565779092\n",
      "\n",
      "Mean for 3 players: 6.342\n",
      "Median for 3 players: 6\n",
      "Variance for 3 players: 5.156192192192192\n",
      "Standard deviation for 3 players: 2.2707250366770944\n",
      "\n",
      "Mean for 4 players: 5.464\n",
      "Median for 4 players: 5\n",
      "Variance for 4 players: 3.8565605605605606\n",
      "Standard deviation for 4 players: 1.9638127610748843\n",
      "\n",
      "Mean for 5 players: 4.418\n",
      "Median for 5 players: 4\n",
      "Variance for 5 players: 3.022298298298298\n",
      "Standard deviation for 5 players: 1.7384758549655783\n",
      "\n"
     ]
    }
   ],
   "source": [
    "benchmark(StoppedClock)"
   ]
  },
  {
   "cell_type": "code",
   "execution_count": 7,
   "metadata": {},
   "outputs": [
    {
     "name": "stdout",
     "output_type": "stream",
     "text": [
      "Mean for 2 players: 13.285\n",
      "Median for 2 players: 14\n",
      "Variance for 2 players: 9.543318318318319\n",
      "Standard deviation for 2 players: 3.089226168204316\n",
      "\n",
      "Mean for 3 players: 15.508\n",
      "Median for 3 players: 16\n",
      "Variance for 3 players: 1.6055415415415415\n",
      "Standard deviation for 3 players: 1.267099657304642\n",
      "\n",
      "Mean for 4 players: 15.053\n",
      "Median for 4 players: 15\n",
      "Variance for 4 players: 1.2694604604604605\n",
      "Standard deviation for 4 players: 1.1267033595673976\n",
      "\n",
      "Mean for 5 players: 13.988\n",
      "Median for 5 players: 14\n",
      "Variance for 5 players: 0.9287847847847848\n",
      "Standard deviation for 5 players: 0.9637348104041821\n",
      "\n"
     ]
    }
   ],
   "source": [
    "benchmark(SimpleDistrustful)"
   ]
  },
  {
   "cell_type": "code",
   "execution_count": 8,
   "metadata": {},
   "outputs": [
    {
     "name": "stdout",
     "output_type": "stream",
     "text": [
      "Mean for 2 players: 17.46\n",
      "Median for 2 players: 18\n",
      "Variance for 2 players: 2.588988988988989\n",
      "Standard deviation for 2 players: 1.6090335574465155\n",
      "\n",
      "Mean for 3 players: 16.445\n",
      "Median for 3 players: 16\n",
      "Variance for 3 players: 1.2622372372372372\n",
      "Standard deviation for 3 players: 1.1234933187327985\n",
      "\n",
      "Mean for 4 players: 15.749\n",
      "Median for 4 players: 16\n",
      "Variance for 4 players: 1.063062062062062\n",
      "Standard deviation for 4 players: 1.0310490105043806\n",
      "\n",
      "Mean for 5 players: 14.484\n",
      "Median for 5 players: 14\n",
      "Variance for 5 players: 0.8445885885885885\n",
      "Standard deviation for 5 players: 0.9190150099909079\n",
      "\n"
     ]
    }
   ],
   "source": [
    "benchmark(Distrustful)"
   ]
  },
  {
   "cell_type": "code",
   "execution_count": 9,
   "metadata": {},
   "outputs": [
    {
     "name": "stdout",
     "output_type": "stream",
     "text": [
      "Mean for 2 players: 18.114\n",
      "Median for 2 players: 19\n",
      "Variance for 2 players: 10.913917917917917\n",
      "Standard deviation for 2 players: 3.30362193931417\n",
      "\n",
      "Mean for 3 players: 20.498\n",
      "Median for 3 players: 21\n",
      "Variance for 3 players: 2.6526486486486487\n",
      "Standard deviation for 3 players: 1.628695382399253\n",
      "\n",
      "Mean for 4 players: 20.451\n",
      "Median for 4 players: 20\n",
      "Variance for 4 players: 2.708307307307307\n",
      "Standard deviation for 4 players: 1.645693564217624\n",
      "\n",
      "Mean for 5 players: 19.156\n",
      "Median for 5 players: 19\n",
      "Variance for 5 players: 2.642306306306306\n",
      "Standard deviation for 5 players: 1.6255172426973226\n",
      "\n"
     ]
    }
   ],
   "source": [
    "benchmark(Trustful)"
   ]
  },
  {
   "cell_type": "code",
   "execution_count": 11,
   "metadata": {},
   "outputs": [
    {
     "ename": "AttributeError",
     "evalue": "'NoneType' object has no attribute 'discard_tip_parameters'",
     "output_type": "error",
     "traceback": [
      "\u001b[0;31m---------------------------------------------------------------------------\u001b[0m",
      "\u001b[0;31mAttributeError\u001b[0m                            Traceback (most recent call last)",
      "\u001b[0;32m<ipython-input-11-23359f38c650>\u001b[0m in \u001b[0;36m<module>\u001b[0;34m\u001b[0m\n\u001b[0;32m----> 1\u001b[0;31m \u001b[0mbenchmark\u001b[0m\u001b[0;34m(\u001b[0m\u001b[0mBayesianTrustful\u001b[0m\u001b[0;34m)\u001b[0m\u001b[0;34m\u001b[0m\u001b[0;34m\u001b[0m\u001b[0m\n\u001b[0m",
      "\u001b[0;32m<ipython-input-2-c24850c98d9a>\u001b[0m in \u001b[0;36mbenchmark\u001b[0;34m(player)\u001b[0m\n\u001b[1;32m     10\u001b[0m             \u001b[0mhanabi_game\u001b[0m \u001b[0;34m=\u001b[0m \u001b[0mGame\u001b[0m\u001b[0;34m(\u001b[0m\u001b[0mplayers\u001b[0m\u001b[0;34m)\u001b[0m\u001b[0;34m\u001b[0m\u001b[0;34m\u001b[0m\u001b[0m\n\u001b[1;32m     11\u001b[0m             \u001b[0;32mwhile\u001b[0m \u001b[0mhanabi_game\u001b[0m\u001b[0;34m.\u001b[0m\u001b[0mis_game_over\u001b[0m\u001b[0;34m(\u001b[0m\u001b[0;34m)\u001b[0m \u001b[0;32mis\u001b[0m \u001b[0;32mFalse\u001b[0m\u001b[0;34m:\u001b[0m\u001b[0;34m\u001b[0m\u001b[0;34m\u001b[0m\u001b[0m\n\u001b[0;32m---> 12\u001b[0;31m                 \u001b[0mhanabi_game\u001b[0m\u001b[0;34m.\u001b[0m\u001b[0mmake_move\u001b[0m\u001b[0;34m(\u001b[0m\u001b[0;34m)\u001b[0m\u001b[0;34m\u001b[0m\u001b[0;34m\u001b[0m\u001b[0m\n\u001b[0m\u001b[1;32m     13\u001b[0m             \u001b[0mscores\u001b[0m\u001b[0;34m.\u001b[0m\u001b[0mappend\u001b[0m\u001b[0;34m(\u001b[0m\u001b[0mhanabi_game\u001b[0m\u001b[0;34m.\u001b[0m\u001b[0mscore\u001b[0m\u001b[0;34m)\u001b[0m\u001b[0;34m\u001b[0m\u001b[0;34m\u001b[0m\u001b[0m\n\u001b[1;32m     14\u001b[0m \u001b[0;34m\u001b[0m\u001b[0m\n",
      "\u001b[0;32m~/Documents/Projekty/Hanabi-AI-Engineer-Thesis/framework/game.py\u001b[0m in \u001b[0;36mmake_move\u001b[0;34m(self)\u001b[0m\n\u001b[1;32m    186\u001b[0m         ]\n\u001b[1;32m    187\u001b[0m \u001b[0;34m\u001b[0m\u001b[0m\n\u001b[0;32m--> 188\u001b[0;31m         \u001b[0mmove\u001b[0m \u001b[0;34m=\u001b[0m \u001b[0mself\u001b[0m\u001b[0;34m.\u001b[0m\u001b[0mplayers\u001b[0m\u001b[0;34m[\u001b[0m\u001b[0mself\u001b[0m\u001b[0;34m.\u001b[0m\u001b[0mplayer_turn\u001b[0m\u001b[0;34m]\u001b[0m\u001b[0;34m.\u001b[0m\u001b[0mplay\u001b[0m\u001b[0;34m(\u001b[0m\u001b[0mRoundInfo\u001b[0m\u001b[0;34m(\u001b[0m\u001b[0mself\u001b[0m\u001b[0;34m)\u001b[0m\u001b[0;34m)\u001b[0m\u001b[0;34m\u001b[0m\u001b[0;34m\u001b[0m\u001b[0m\n\u001b[0m\u001b[1;32m    189\u001b[0m         \u001b[0mlearning_player\u001b[0m \u001b[0;34m=\u001b[0m \u001b[0mself\u001b[0m\u001b[0;34m.\u001b[0m\u001b[0mplayers\u001b[0m\u001b[0;34m[\u001b[0m\u001b[0mself\u001b[0m\u001b[0;34m.\u001b[0m\u001b[0mplayer_turn\u001b[0m\u001b[0;34m]\u001b[0m\u001b[0;34m.\u001b[0m\u001b[0mlearning\u001b[0m\u001b[0;34m\u001b[0m\u001b[0;34m\u001b[0m\u001b[0m\n\u001b[1;32m    190\u001b[0m \u001b[0;34m\u001b[0m\u001b[0m\n",
      "\u001b[0;32m~/Documents/Projekty/Hanabi-AI-Engineer-Thesis/players/bayesian_trustful.py\u001b[0m in \u001b[0;36mplay\u001b[0;34m(self, round_info)\u001b[0m\n\u001b[1;32m    910\u001b[0m     \u001b[0;32mdef\u001b[0m \u001b[0mplay\u001b[0m\u001b[0;34m(\u001b[0m\u001b[0mself\u001b[0m\u001b[0;34m,\u001b[0m \u001b[0mround_info\u001b[0m\u001b[0;34m)\u001b[0m\u001b[0;34m:\u001b[0m\u001b[0;34m\u001b[0m\u001b[0;34m\u001b[0m\u001b[0m\n\u001b[1;32m    911\u001b[0m         \u001b[0;32mif\u001b[0m \u001b[0mround_info\u001b[0m\u001b[0;34m.\u001b[0m\u001b[0mcurrent_turn\u001b[0m \u001b[0;32mis\u001b[0m \u001b[0;36m0\u001b[0m\u001b[0;34m:\u001b[0m\u001b[0;34m\u001b[0m\u001b[0;34m\u001b[0m\u001b[0m\n\u001b[0;32m--> 912\u001b[0;31m             \u001b[0mself\u001b[0m\u001b[0;34m.\u001b[0m\u001b[0minitialize_card_hint_history\u001b[0m\u001b[0;34m(\u001b[0m\u001b[0mround_info\u001b[0m\u001b[0;34m)\u001b[0m\u001b[0;34m\u001b[0m\u001b[0;34m\u001b[0m\u001b[0m\n\u001b[0m\u001b[1;32m    913\u001b[0m \u001b[0;34m\u001b[0m\u001b[0m\n\u001b[1;32m    914\u001b[0m         \u001b[0;32mif\u001b[0m \u001b[0mdebug\u001b[0m \u001b[0;32mand\u001b[0m \u001b[0mround_info\u001b[0m\u001b[0;34m.\u001b[0m\u001b[0mlog\u001b[0m\u001b[0;34m:\u001b[0m\u001b[0;34m\u001b[0m\u001b[0;34m\u001b[0m\u001b[0m\n",
      "\u001b[0;32m~/Documents/Projekty/Hanabi-AI-Engineer-Thesis/players/bayesian_trustful.py\u001b[0m in \u001b[0;36minitialize_card_hint_history\u001b[0;34m(self, round_info)\u001b[0m\n\u001b[1;32m     33\u001b[0m             \u001b[0mplayer_number\u001b[0m \u001b[0;34m=\u001b[0m \u001b[0mutils\u001b[0m\u001b[0;34m.\u001b[0m\u001b[0mnext_player_number\u001b[0m\u001b[0;34m(\u001b[0m\u001b[0mround_info\u001b[0m\u001b[0;34m,\u001b[0m \u001b[0mplayer_number\u001b[0m\u001b[0;34m)\u001b[0m\u001b[0;34m\u001b[0m\u001b[0;34m\u001b[0m\u001b[0m\n\u001b[1;32m     34\u001b[0m \u001b[0;34m\u001b[0m\u001b[0m\n\u001b[0;32m---> 35\u001b[0;31m         \u001b[0mself\u001b[0m\u001b[0;34m.\u001b[0m\u001b[0mdiscard_tip\u001b[0m \u001b[0;34m=\u001b[0m \u001b[0mself\u001b[0m\u001b[0;34m.\u001b[0m\u001b[0mlearning_state\u001b[0m\u001b[0;34m.\u001b[0m\u001b[0mdiscard_tip_parameters\u001b[0m\u001b[0;34m\u001b[0m\u001b[0;34m\u001b[0m\u001b[0m\n\u001b[0m\u001b[1;32m     36\u001b[0m         \u001b[0mself\u001b[0m\u001b[0;34m.\u001b[0m\u001b[0mgood_tip\u001b[0m \u001b[0;34m=\u001b[0m \u001b[0mself\u001b[0m\u001b[0;34m.\u001b[0m\u001b[0mlearning_state\u001b[0m\u001b[0;34m.\u001b[0m\u001b[0mgood_tip_parameters\u001b[0m\u001b[0;34m\u001b[0m\u001b[0;34m\u001b[0m\u001b[0m\n\u001b[1;32m     37\u001b[0m         \u001b[0mself\u001b[0m\u001b[0;34m.\u001b[0m\u001b[0mrisky_tip\u001b[0m \u001b[0;34m=\u001b[0m \u001b[0mself\u001b[0m\u001b[0;34m.\u001b[0m\u001b[0mlearning_state\u001b[0m\u001b[0;34m.\u001b[0m\u001b[0mrisky_tip_parameters\u001b[0m\u001b[0;34m\u001b[0m\u001b[0;34m\u001b[0m\u001b[0m\n",
      "\u001b[0;31mAttributeError\u001b[0m: 'NoneType' object has no attribute 'discard_tip_parameters'"
     ]
    }
   ],
   "source": [
    "benchmark(BayesianTrustful)"
   ]
  },
  {
   "cell_type": "code",
   "execution_count": null,
   "metadata": {},
   "outputs": [],
   "source": [
    "benchmark(Reinforced)"
   ]
  }
 ],
 "metadata": {
  "kernelspec": {
   "display_name": "Python 3",
   "language": "python",
   "name": "python3"
  },
  "language_info": {
   "codemirror_mode": {
    "name": "ipython",
    "version": 3
   },
   "file_extension": ".py",
   "mimetype": "text/x-python",
   "name": "python",
   "nbconvert_exporter": "python",
   "pygments_lexer": "ipython3",
   "version": "3.7.4"
  }
 },
 "nbformat": 4,
 "nbformat_minor": 2
}
