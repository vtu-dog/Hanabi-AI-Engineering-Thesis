{
 "cells": [
  {
   "cell_type": "code",
   "execution_count": null,
   "metadata": {},
   "outputs": [],
   "source": [
    "# basic imports\n",
    "from players import *\n",
    "from framework import *\n",
    "from statistics import mean, median_high, variance, stdev"
   ]
  },
  {
   "cell_type": "code",
   "execution_count": null,
   "metadata": {},
   "outputs": [],
   "source": [
    "%matplotlib inline\n",
    "import matplotlib.pyplot as plt\n",
    "from matplotlib.ticker import MaxNLocator\n",
    "\n",
    "def plot_results(scores):\n",
    "    plt.figure(num=None, figsize=(8, 6), dpi=120)\n",
    "    \n",
    "    kwargs = dict(histtype='stepfilled', bins=range(0, 26))\n",
    "    for num, score in enumerate(scores, 1):\n",
    "        ax = plt.subplot(2, 2, num)\n",
    "        plt.tight_layout()\n",
    "        \n",
    "        players = '{0} graczy\\n'.format(num+1)\n",
    "        avg = r'$\\mu = $' + str(round(mean(score), 2)) + ', '\n",
    "        med = r'$\\tilde{\\mu} = $' + str(round(median_high(score), 2)) + ', '\n",
    "        var = r'$\\sigma^2 = $' + str(round(variance(score), 2)) + ', '\n",
    "        std_dev = r'$\\sigma = $' + str(round(stdev(score), 2))\n",
    "        \n",
    "        plt.title(players + avg + med + var + std_dev)\n",
    "        plt.xlim(0, 25)\n",
    "        \n",
    "        if num in [3, 4]:\n",
    "            ax.set_xlabel('Wyniki')\n",
    "            \n",
    "        if num in [1, 3]:\n",
    "            ax.set_ylabel('Ilość gier')\n",
    "            \n",
    "        ax.yaxis.set_major_locator(MaxNLocator(integer=True))\n",
    "        plt.hist(score, **kwargs)"
   ]
  },
  {
   "cell_type": "code",
   "execution_count": null,
   "metadata": {},
   "outputs": [],
   "source": [
    "def n_players(player, num):\n",
    "    return [player() for _ in range(num)]\n",
    "\n",
    "def benchmark(player):\n",
    "    scores_lst = []\n",
    "    for num in [2, 3, 4, 5]:\n",
    "        scores = []\n",
    "\n",
    "        for _ in range(1000):\n",
    "            players = n_players(player, num)\n",
    "            hanabi_game = Game(players)\n",
    "            while hanabi_game.is_game_over() is False:\n",
    "                hanabi_game.make_move()\n",
    "            scores.append(hanabi_game.score)\n",
    "            \n",
    "        scores_lst.append(scores)\n",
    "\n",
    "        print('Mean for {0} players: {1}'.format(num, mean(scores)))\n",
    "        print('Median for {0} players: {1}'.format(num, median_high(scores)))\n",
    "        print('Variance for {0} players: {1}'.format(num, variance(scores)))\n",
    "        print('Standard deviation for {0} players: {1}'.format(num, stdev(scores)))\n",
    "        print('Wins: {0}'.format(scores.count(25)))\n",
    "        print()\n",
    "\n",
    "    plot_results(scores_lst)"
   ]
  },
  {
   "cell_type": "code",
   "execution_count": null,
   "metadata": {},
   "outputs": [],
   "source": [
    "benchmark(Cheater)"
   ]
  },
  {
   "cell_type": "code",
   "execution_count": null,
   "metadata": {},
   "outputs": [],
   "source": [
    "benchmark(SmartCheater)"
   ]
  },
  {
   "cell_type": "code",
   "execution_count": null,
   "metadata": {},
   "outputs": [],
   "source": [
    "benchmark(StoppedClock)"
   ]
  },
  {
   "cell_type": "code",
   "execution_count": null,
   "metadata": {},
   "outputs": [],
   "source": [
    "benchmark(SimpleDistrustful)"
   ]
  },
  {
   "cell_type": "code",
   "execution_count": null,
   "metadata": {},
   "outputs": [],
   "source": [
    "benchmark(Distrustful)"
   ]
  },
  {
   "cell_type": "code",
   "execution_count": null,
   "metadata": {},
   "outputs": [],
   "source": [
    "benchmark(Trustful)"
   ]
  },
  {
   "cell_type": "code",
   "execution_count": null,
   "metadata": {},
   "outputs": [],
   "source": [
    "benchmark(BayesianTrustful)"
   ]
  },
  {
   "cell_type": "code",
   "execution_count": null,
   "metadata": {},
   "outputs": [],
   "source": [
    "benchmark(Reinforced)"
   ]
  }
 ],
 "metadata": {
  "kernelspec": {
   "display_name": "Python 3",
   "language": "python",
   "name": "python3"
  },
  "language_info": {
   "codemirror_mode": {
    "name": "ipython",
    "version": 3
   },
   "file_extension": ".py",
   "mimetype": "text/x-python",
   "name": "python",
   "nbconvert_exporter": "python",
   "pygments_lexer": "ipython3",
   "version": "3.7.4"
  }
 },
 "nbformat": 4,
 "nbformat_minor": 2
}
